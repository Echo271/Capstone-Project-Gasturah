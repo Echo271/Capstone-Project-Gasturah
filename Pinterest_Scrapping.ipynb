{
  "nbformat": 4,
  "nbformat_minor": 0,
  "metadata": {
    "colab": {
      "name": "Pinterest_Scrapping.ipynb",
      "provenance": [],
      "authorship_tag": "ABX9TyN5j1em0FGxjtVuMGqKceTP",
      "include_colab_link": true
    },
    "kernelspec": {
      "name": "python3",
      "display_name": "Python 3"
    },
    "language_info": {
      "name": "python"
    }
  },
  "cells": [
    {
      "cell_type": "markdown",
      "metadata": {
        "id": "view-in-github",
        "colab_type": "text"
      },
      "source": [
        "<a href=\"https://colab.research.google.com/github/Echo271/Capstone-Project-Gasturah/blob/main/Pinterest_Scrapping.ipynb\" target=\"_parent\"><img src=\"https://colab.research.google.com/assets/colab-badge.svg\" alt=\"Open In Colab\"/></a>"
      ]
    },
    {
      "cell_type": "code",
      "execution_count": 1,
      "metadata": {
        "colab": {
          "base_uri": "https://localhost:8080/"
        },
        "id": "Lc8Wl1ELExMu",
        "outputId": "617207e4-9218-4dcd-9bb2-5c73c0892cd4"
      },
      "outputs": [
        {
          "output_type": "stream",
          "name": "stdout",
          "text": [
            "Requirement already satisfied: pinscrape in /usr/local/lib/python3.7/dist-packages (0.0.2)\n",
            "Requirement already satisfied: opencv-python==4.5.3.56 in /usr/local/lib/python3.7/dist-packages (from pinscrape) (4.5.3.56)\n",
            "Requirement already satisfied: tqdm==4.32.1 in /usr/local/lib/python3.7/dist-packages (from pinscrape) (4.32.1)\n",
            "Requirement already satisfied: numpy==1.21.1 in /usr/local/lib/python3.7/dist-packages (from pinscrape) (1.21.1)\n",
            "Requirement already satisfied: requests==2.22.0 in /usr/local/lib/python3.7/dist-packages (from pinscrape) (2.22.0)\n",
            "Requirement already satisfied: pydotmap in /usr/local/lib/python3.7/dist-packages (from pinscrape) (0.1.3)\n",
            "Requirement already satisfied: bs4==0.0.1 in /usr/local/lib/python3.7/dist-packages (from pinscrape) (0.0.1)\n",
            "Requirement already satisfied: beautifulsoup4 in /usr/local/lib/python3.7/dist-packages (from bs4==0.0.1->pinscrape) (4.6.3)\n",
            "Requirement already satisfied: chardet<3.1.0,>=3.0.2 in /usr/local/lib/python3.7/dist-packages (from requests==2.22.0->pinscrape) (3.0.4)\n",
            "Requirement already satisfied: urllib3!=1.25.0,!=1.25.1,<1.26,>=1.21.1 in /usr/local/lib/python3.7/dist-packages (from requests==2.22.0->pinscrape) (1.24.3)\n",
            "Requirement already satisfied: certifi>=2017.4.17 in /usr/local/lib/python3.7/dist-packages (from requests==2.22.0->pinscrape) (2021.10.8)\n",
            "Requirement already satisfied: idna<2.9,>=2.5 in /usr/local/lib/python3.7/dist-packages (from requests==2.22.0->pinscrape) (2.8)\n"
          ]
        }
      ],
      "source": [
        "!pip install pinscrape"
      ]
    },
    {
      "cell_type": "code",
      "source": [
        "from pinscrape import pinscrape\n",
        "\n",
        "is_downloaded = pinscrape.scraper.scrape(\"Borobudur\", \"Borobudur_to\", {}, 100)\n",
        "\n",
        "if is_downloaded:\n",
        "    print(\"\\nDownload Sukses\")\n",
        "else:\n",
        "    print(\"\\nDownload Gagal\")"
      ],
      "metadata": {
        "colab": {
          "base_uri": "https://localhost:8080/"
        },
        "id": "J28QWZZSGkq_",
        "outputId": "c255331d-6f62-4c0b-907f-22bca024f93d"
      },
      "execution_count": 13,
      "outputs": [
        {
          "output_type": "stream",
          "name": "stdout",
          "text": [
            "\n",
            "Download Sukses\n"
          ]
        }
      ]
    },
    {
      "cell_type": "code",
      "source": [
        "from google.colab import files\n",
        "import shutil\n",
        "\n",
        "shutil.make_archive(\"Borobudur_to\", \"zip\", \"/content/Borobudur_to\")\n",
        "files.download('Borobudur_to.zip') "
      ],
      "metadata": {
        "colab": {
          "base_uri": "https://localhost:8080/",
          "height": 17
        },
        "id": "-osY9Q0uITLa",
        "outputId": "e204d595-c3bb-4f10-9a8a-9b9de6d1222f"
      },
      "execution_count": 14,
      "outputs": [
        {
          "output_type": "display_data",
          "data": {
            "text/plain": [
              "<IPython.core.display.Javascript object>"
            ],
            "application/javascript": [
              "\n",
              "    async function download(id, filename, size) {\n",
              "      if (!google.colab.kernel.accessAllowed) {\n",
              "        return;\n",
              "      }\n",
              "      const div = document.createElement('div');\n",
              "      const label = document.createElement('label');\n",
              "      label.textContent = `Downloading \"${filename}\": `;\n",
              "      div.appendChild(label);\n",
              "      const progress = document.createElement('progress');\n",
              "      progress.max = size;\n",
              "      div.appendChild(progress);\n",
              "      document.body.appendChild(div);\n",
              "\n",
              "      const buffers = [];\n",
              "      let downloaded = 0;\n",
              "\n",
              "      const channel = await google.colab.kernel.comms.open(id);\n",
              "      // Send a message to notify the kernel that we're ready.\n",
              "      channel.send({})\n",
              "\n",
              "      for await (const message of channel.messages) {\n",
              "        // Send a message to notify the kernel that we're ready.\n",
              "        channel.send({})\n",
              "        if (message.buffers) {\n",
              "          for (const buffer of message.buffers) {\n",
              "            buffers.push(buffer);\n",
              "            downloaded += buffer.byteLength;\n",
              "            progress.value = downloaded;\n",
              "          }\n",
              "        }\n",
              "      }\n",
              "      const blob = new Blob(buffers, {type: 'application/binary'});\n",
              "      const a = document.createElement('a');\n",
              "      a.href = window.URL.createObjectURL(blob);\n",
              "      a.download = filename;\n",
              "      div.appendChild(a);\n",
              "      a.click();\n",
              "      div.remove();\n",
              "    }\n",
              "  "
            ]
          },
          "metadata": {}
        },
        {
          "output_type": "display_data",
          "data": {
            "text/plain": [
              "<IPython.core.display.Javascript object>"
            ],
            "application/javascript": [
              "download(\"download_cfb80d4f-a690-496f-bb10-84b1e31eb8d9\", \"Borobudur_to.zip\", 3826018)"
            ]
          },
          "metadata": {}
        }
      ]
    }
  ]
}