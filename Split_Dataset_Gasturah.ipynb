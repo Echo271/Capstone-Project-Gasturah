{
  "nbformat": 4,
  "nbformat_minor": 0,
  "metadata": {
    "colab": {
      "name": "Split_Dataset_Gasturah.ipynb",
      "provenance": [],
      "collapsed_sections": [],
      "mount_file_id": "1xAW2lhkxChUrEjVjWCDuBv7ESWAjoe5c",
      "authorship_tag": "ABX9TyPU2vVzX5PaofQHrelU/y2r",
      "include_colab_link": true
    },
    "kernelspec": {
      "name": "python3",
      "display_name": "Python 3"
    },
    "language_info": {
      "name": "python"
    }
  },
  "cells": [
    {
      "cell_type": "markdown",
      "metadata": {
        "id": "view-in-github",
        "colab_type": "text"
      },
      "source": [
        "<a href=\"https://colab.research.google.com/github/Echo271/Capstone-Project-Gasturah/blob/main/Split_Dataset_Gasturah.ipynb\" target=\"_parent\"><img src=\"https://colab.research.google.com/assets/colab-badge.svg\" alt=\"Open In Colab\"/></a>"
      ]
    },
    {
      "cell_type": "markdown",
      "source": [
        "Import Library Which We Need"
      ],
      "metadata": {
        "id": "MxWXdjKX0pQO"
      }
    },
    {
      "cell_type": "code",
      "source": [
        "import os\n",
        "from PIL import Image"
      ],
      "metadata": {
        "id": "MdpqtUMbTeZA"
      },
      "execution_count": null,
      "outputs": []
    },
    {
      "cell_type": "markdown",
      "source": [
        "Function split dataset from train folder to test folder"
      ],
      "metadata": {
        "id": "e6Guz_yJ0zIg"
      }
    },
    {
      "cell_type": "code",
      "source": [
        "from sklearn.model_selection import train_test_split\n",
        "import shutil\n",
        "\n",
        "def split_dataset(dir, folder_name):\n",
        "  path_dir = os.path.join(dir,folder_name)\n",
        "  training_data, testing_data = train_test_split(os.listdir(path_dir) ,test_size=0.2, random_state=25)\n",
        "\n",
        "  print(\"{} training {} images and testing {} images\".format(folder_name, str(len(training_data)), str(len(testing_data))))\n",
        "  \n",
        "  new_folder  = \"/content/drive/MyDrive/Dataset Gasturah/test/\"\n",
        "  for img in testing_data:\n",
        "    old_dir = os.path.join(path_dir, img)\n",
        "    new_dir = os.path.join(new_folder,folder_name,img)\n",
        "    try:\n",
        "     shutil.move(old_dir, new_dir)\n",
        "    #  print(old_dir + \" to \" + new_dir)\n",
        "    except Exception as e:\n",
        "      print(e)"
      ],
      "metadata": {
        "id": "57wu_HcONMmZ"
      },
      "execution_count": null,
      "outputs": []
    },
    {
      "cell_type": "markdown",
      "source": [
        "Get the class folder from train folder"
      ],
      "metadata": {
        "id": "UiqJ9Y3l1CO3"
      }
    },
    {
      "cell_type": "code",
      "source": [
        "dataset  = \"/content/drive/MyDrive/Dataset Gasturah/train\"\n",
        "\n",
        "list_dataset = os.listdir(dataset)"
      ],
      "metadata": {
        "id": "AFaaOrndZSVE"
      },
      "execution_count": null,
      "outputs": []
    },
    {
      "cell_type": "markdown",
      "source": [
        "Execute the function"
      ],
      "metadata": {
        "id": "zwnv2lqm1KPC"
      }
    },
    {
      "cell_type": "code",
      "source": [
        "for dir in list_dataset:\n",
        "  # if dir == \"Candi Borobudur\" or dir == \"Monas\":\n",
        "  #   continue\n",
        "  split_dataset(dataset, dir)"
      ],
      "metadata": {
        "colab": {
          "base_uri": "https://localhost:8080/"
        },
        "id": "5d2smw-XSQdE",
        "outputId": "96154914-c021-448d-8d1c-f49f37930304"
      },
      "execution_count": null,
      "outputs": [
        {
          "output_type": "stream",
          "name": "stdout",
          "text": [
            "Monas training 118 images and testing 30 images\n",
            "Kota Tua training 138 images and testing 35 images\n",
            "Lembuswana training 53 images and testing 14 images\n",
            "Benteng Fort Rotterdam training 160 images and testing 40 images\n",
            "Candi Ngetos training 84 images and testing 21 images\n",
            "Lawang Sewu training 256 images and testing 64 images\n",
            "Istana Maimun training 120 images and testing 30 images\n",
            "Jam Gadang training 260 images and testing 65 images\n",
            "Candi Prambanan training 149 images and testing 38 images\n",
            "Candi Borobudur training 153 images and testing 39 images\n"
          ]
        }
      ]
    }
  ]
}