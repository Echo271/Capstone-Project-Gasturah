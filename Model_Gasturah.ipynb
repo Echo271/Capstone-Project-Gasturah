{
  "nbformat": 4,
  "nbformat_minor": 0,
  "metadata": {
    "colab": {
      "name": "Model_Gasturah.ipynb",
      "provenance": [],
      "mount_file_id": "1RxpJq3iGWlDAsdcjt0Wcxz512ljAKUop",
      "authorship_tag": "ABX9TyM2u5+vxPJsotwB0XrJKVI3",
      "include_colab_link": true
    },
    "kernelspec": {
      "name": "python3",
      "display_name": "Python 3"
    },
    "language_info": {
      "name": "python"
    }
  },
  "cells": [
    {
      "cell_type": "markdown",
      "metadata": {
        "id": "view-in-github",
        "colab_type": "text"
      },
      "source": [
        "<a href=\"https://colab.research.google.com/github/Echo271/Capstone-Project-Gasturah/blob/main/Model_Gasturah.ipynb\" target=\"_parent\"><img src=\"https://colab.research.google.com/assets/colab-badge.svg\" alt=\"Open In Colab\"/></a>"
      ]
    },
    {
      "cell_type": "code",
      "execution_count": null,
      "metadata": {
        "id": "C2Dr8obf1Uci"
      },
      "outputs": [],
      "source": [
        "!pip install tensorflow"
      ]
    },
    {
      "cell_type": "code",
      "execution_count": null,
      "metadata": {
        "id": "GgvGg2nsCj-0",
        "colab": {
          "base_uri": "https://localhost:8080/"
        },
        "outputId": "edc8525a-f522-43a5-e7f9-999ea3e11f3f"
      },
      "outputs": [
        {
          "output_type": "stream",
          "name": "stdout",
          "text": [
            "Model: \"sequential_5\"\n",
            "_________________________________________________________________\n",
            " Layer (type)                Output Shape              Param #   \n",
            "=================================================================\n",
            " conv2d_17 (Conv2D)          (None, 98, 98, 16)        448       \n",
            "                                                                 \n",
            " max_pooling2d_17 (MaxPoolin  (None, 49, 49, 16)       0         \n",
            " g2D)                                                            \n",
            "                                                                 \n",
            " conv2d_18 (Conv2D)          (None, 47, 47, 32)        4640      \n",
            "                                                                 \n",
            " max_pooling2d_18 (MaxPoolin  (None, 23, 23, 32)       0         \n",
            " g2D)                                                            \n",
            "                                                                 \n",
            " conv2d_19 (Conv2D)          (None, 21, 21, 64)        18496     \n",
            "                                                                 \n",
            " max_pooling2d_19 (MaxPoolin  (None, 10, 10, 64)       0         \n",
            " g2D)                                                            \n",
            "                                                                 \n",
            " flatten_5 (Flatten)         (None, 6400)              0         \n",
            "                                                                 \n",
            " dense_10 (Dense)            (None, 128)               819328    \n",
            "                                                                 \n",
            " dense_11 (Dense)            (None, 10)                1290      \n",
            "                                                                 \n",
            "=================================================================\n",
            "Total params: 844,202\n",
            "Trainable params: 844,202\n",
            "Non-trainable params: 0\n",
            "_________________________________________________________________\n"
          ]
        }
      ],
      "source": [
        "import tensorflow as tf\n",
        "\n",
        "model = tf.keras.models.Sequential([\n",
        "    # Note the input shape is the desired size of the image 150x150 with 3 bytes color\n",
        "    # This is the first convolution\n",
        "    tf.keras.layers.Conv2D(16, (3,3), activation='relu', input_shape=(100, 100, 3)),\n",
        "    tf.keras.layers.MaxPooling2D(2, 2),\n",
        "    # The second convolution\n",
        "    tf.keras.layers.Conv2D(32, (3,3), activation='relu'),\n",
        "    tf.keras.layers.MaxPooling2D(2,2),\n",
        "    # The third convolution\n",
        "    tf.keras.layers.Conv2D(64, (3,3), activation='relu'),\n",
        "    tf.keras.layers.MaxPooling2D(2,2),\n",
        "    \n",
        "    # Flatten the results to feed into a DNN\n",
        "    tf.keras.layers.Flatten(),\n",
        "    # 512 neuron hidden layer\n",
        "    tf.keras.layers.Dense(128, activation='relu'),\n",
        "    tf.keras.layers.Dense(10, activation='softmax')\n",
        "])\n",
        "\n",
        "# Print the model summary\n",
        "model.summary()"
      ]
    },
    {
      "cell_type": "code",
      "execution_count": null,
      "metadata": {
        "id": "OskuZ2ThFqmg"
      },
      "outputs": [],
      "source": [
        "# Set the training parameters\n",
        "model.compile(loss = 'categorical_crossentropy', optimizer='adam', metrics=['accuracy'])"
      ]
    },
    {
      "cell_type": "code",
      "execution_count": null,
      "metadata": {
        "id": "LWTisYLQM1aM",
        "colab": {
          "base_uri": "https://localhost:8080/"
        },
        "outputId": "9cda4f59-c2e2-4ed3-f5a2-624c50c3b566"
      },
      "outputs": [
        {
          "output_type": "stream",
          "name": "stdout",
          "text": [
            "Found 1490 images belonging to 10 classes.\n",
            "Found 376 images belonging to 10 classes.\n"
          ]
        }
      ],
      "source": [
        "from keras_preprocessing.image import ImageDataGenerator\n",
        "\n",
        "TRAINING_DIR = \"/content/drive/MyDrive/Dataset Gasturah/train\"\n",
        "training_datagen = ImageDataGenerator(\n",
        "      rescale = 1./255,\n",
        "\t    rotation_range=40,\n",
        "      width_shift_range=0.2,\n",
        "      height_shift_range=0.2,\n",
        "      shear_range=0.2,\n",
        "      zoom_range=0.2,\n",
        "      horizontal_flip=True,\n",
        "      fill_mode='nearest')\n",
        "\n",
        "VALIDATION_DIR = \"/content/drive/MyDrive/Dataset Gasturah/test\"\n",
        "validation_datagen = ImageDataGenerator(rescale = 1./255)\n",
        "\n",
        "train_generator = training_datagen.flow_from_directory(\n",
        "\tTRAINING_DIR,\n",
        "\ttarget_size=(100,100),\n",
        "\tclass_mode='categorical',\n",
        "  batch_size=126\n",
        ")\n",
        "\n",
        "validation_generator = validation_datagen.flow_from_directory(\n",
        "\tVALIDATION_DIR,\n",
        "\ttarget_size=(100,100),\n",
        "\tclass_mode='categorical',\n",
        "  batch_size=126\n",
        ")"
      ]
    },
    {
      "cell_type": "code",
      "execution_count": null,
      "metadata": {
        "id": "1mHX5L7HFXQ7",
        "colab": {
          "base_uri": "https://localhost:8080/"
        },
        "outputId": "2fffb536-d168-456e-d901-72e368ba480b"
      },
      "outputs": [
        {
          "output_type": "stream",
          "name": "stdout",
          "text": [
            "Epoch 1/15\n",
            "10/10 [==============================] - 33s 3s/step - loss: 2.3319 - accuracy: 0.1664 - val_loss: 2.2143 - val_accuracy: 0.1729\n",
            "Epoch 2/15\n",
            "10/10 [==============================] - 32s 3s/step - loss: 2.1695 - accuracy: 0.2278 - val_loss: 2.1020 - val_accuracy: 0.2553\n",
            "Epoch 3/15\n",
            "10/10 [==============================] - 32s 3s/step - loss: 2.0737 - accuracy: 0.2488 - val_loss: 1.9847 - val_accuracy: 0.2686\n",
            "Epoch 4/15\n",
            "10/10 [==============================] - 31s 3s/step - loss: 1.9433 - accuracy: 0.2787 - val_loss: 1.9030 - val_accuracy: 0.2926\n",
            "Epoch 5/15\n",
            "10/10 [==============================] - 31s 3s/step - loss: 1.9180 - accuracy: 0.3183 - val_loss: 2.0304 - val_accuracy: 0.3005\n",
            "Epoch 6/15\n",
            "10/10 [==============================] - 31s 3s/step - loss: 1.8755 - accuracy: 0.3360 - val_loss: 1.8947 - val_accuracy: 0.3404\n",
            "Epoch 7/15\n",
            "10/10 [==============================] - 31s 3s/step - loss: 1.8258 - accuracy: 0.3449 - val_loss: 1.8157 - val_accuracy: 0.3830\n",
            "Epoch 8/15\n",
            "10/10 [==============================] - 31s 3s/step - loss: 1.7234 - accuracy: 0.3893 - val_loss: 1.6954 - val_accuracy: 0.4255\n",
            "Epoch 9/15\n",
            "10/10 [==============================] - 33s 3s/step - loss: 1.7283 - accuracy: 0.4095 - val_loss: 1.8275 - val_accuracy: 0.4069\n",
            "Epoch 10/15\n",
            "10/10 [==============================] - 32s 3s/step - loss: 1.7307 - accuracy: 0.3974 - val_loss: 1.7070 - val_accuracy: 0.4309\n",
            "Epoch 11/15\n",
            "10/10 [==============================] - 32s 3s/step - loss: 1.6896 - accuracy: 0.4286 - val_loss: 1.5707 - val_accuracy: 0.4601\n",
            "Epoch 12/15\n",
            "10/10 [==============================] - 32s 3s/step - loss: 1.6633 - accuracy: 0.4289 - val_loss: 1.9749 - val_accuracy: 0.3617\n",
            "Epoch 13/15\n",
            "10/10 [==============================] - 32s 3s/step - loss: 1.6476 - accuracy: 0.4346 - val_loss: 1.7860 - val_accuracy: 0.3856\n",
            "Epoch 14/15\n",
            "10/10 [==============================] - 33s 3s/step - loss: 1.6092 - accuracy: 0.4548 - val_loss: 1.5523 - val_accuracy: 0.4973\n",
            "Epoch 15/15\n",
            "10/10 [==============================] - 32s 3s/step - loss: 1.5014 - accuracy: 0.4814 - val_loss: 1.4208 - val_accuracy: 0.5399\n"
          ]
        }
      ],
      "source": [
        "# Train the model\n",
        "history = model.fit(train_generator, epochs=20, steps_per_epoch=15, validation_data = validation_generator, verbose = 1, validation_steps=3)"
      ]
    },
    {
      "cell_type": "code",
      "execution_count": null,
      "metadata": {
        "id": "aeTRVCr6aosw",
        "colab": {
          "base_uri": "https://localhost:8080/",
          "height": 298
        },
        "outputId": "d6f91d6e-6fab-4121-a29e-aaa0ef879474"
      },
      "outputs": [
        {
          "output_type": "display_data",
          "data": {
            "text/plain": [
              "<Figure size 432x288 with 1 Axes>"
            ],
            "image/png": "[encoded data removed]"
          },
          "metadata": {
            "needs_background": "light"
          }
        },
        {
          "output_type": "display_data",
          "data": {
            "text/plain": [
              "<Figure size 432x288 with 0 Axes>"
            ]
          },
          "metadata": {}
        }
      ],
      "source": [
        "import matplotlib.pyplot as plt\n",
        "\n",
        "# Plot the results\n",
        "acc = history.history['accuracy']\n",
        "val_acc = history.history['val_accuracy']\n",
        "loss = history.history['loss']\n",
        "val_loss = history.history['val_loss']\n",
        "\n",
        "epochs = range(len(acc))\n",
        "\n",
        "plt.plot(epochs, acc, 'r', label='Training accuracy')\n",
        "plt.plot(epochs, val_acc, 'b', label='Validation accuracy')\n",
        "plt.title('Training and validation accuracy')\n",
        "plt.legend(loc=0)\n",
        "plt.figure()\n",
        "\n",
        "plt.show()"
      ]
    }
  ]
}